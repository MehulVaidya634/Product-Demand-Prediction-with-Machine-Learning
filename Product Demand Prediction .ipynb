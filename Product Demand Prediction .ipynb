{
 "cells": [
  {
   "cell_type": "markdown",
   "metadata": {},
   "source": [
    "IMPORTING REQUIRED LIBRARIES\n"
   ]
  },
  {
   "cell_type": "code",
   "execution_count": null,
   "metadata": {},
   "outputs": [],
   "source": [
    "import pandas as pd\n",
    "import numpy as np\n",
    "import matplotlib.pyplot as plt"
   ]
  },
  {
   "cell_type": "markdown",
   "metadata": {},
   "source": [
    "LOADING DATASET."
   ]
  },
  {
   "cell_type": "code",
   "execution_count": 2,
   "metadata": {},
   "outputs": [],
   "source": [
    "demand = pd.read_csv(\"demand.csv\")"
   ]
  },
  {
   "cell_type": "code",
   "execution_count": 3,
   "metadata": {},
   "outputs": [
    {
     "data": {
      "text/html": [
       "<div>\n",
       "<style scoped>\n",
       "    .dataframe tbody tr th:only-of-type {\n",
       "        vertical-align: middle;\n",
       "    }\n",
       "\n",
       "    .dataframe tbody tr th {\n",
       "        vertical-align: top;\n",
       "    }\n",
       "\n",
       "    .dataframe thead th {\n",
       "        text-align: right;\n",
       "    }\n",
       "</style>\n",
       "<table border=\"1\" class=\"dataframe\">\n",
       "  <thead>\n",
       "    <tr style=\"text-align: right;\">\n",
       "      <th></th>\n",
       "      <th>ID</th>\n",
       "      <th>Store ID</th>\n",
       "      <th>Total Price</th>\n",
       "      <th>Base Price</th>\n",
       "      <th>Units Sold</th>\n",
       "    </tr>\n",
       "  </thead>\n",
       "  <tbody>\n",
       "    <tr>\n",
       "      <th>0</th>\n",
       "      <td>1</td>\n",
       "      <td>8091</td>\n",
       "      <td>99.0375</td>\n",
       "      <td>111.8625</td>\n",
       "      <td>20</td>\n",
       "    </tr>\n",
       "    <tr>\n",
       "      <th>1</th>\n",
       "      <td>2</td>\n",
       "      <td>8091</td>\n",
       "      <td>99.0375</td>\n",
       "      <td>99.0375</td>\n",
       "      <td>28</td>\n",
       "    </tr>\n",
       "    <tr>\n",
       "      <th>2</th>\n",
       "      <td>3</td>\n",
       "      <td>8091</td>\n",
       "      <td>133.9500</td>\n",
       "      <td>133.9500</td>\n",
       "      <td>19</td>\n",
       "    </tr>\n",
       "    <tr>\n",
       "      <th>3</th>\n",
       "      <td>4</td>\n",
       "      <td>8091</td>\n",
       "      <td>133.9500</td>\n",
       "      <td>133.9500</td>\n",
       "      <td>44</td>\n",
       "    </tr>\n",
       "    <tr>\n",
       "      <th>4</th>\n",
       "      <td>5</td>\n",
       "      <td>8091</td>\n",
       "      <td>141.0750</td>\n",
       "      <td>141.0750</td>\n",
       "      <td>52</td>\n",
       "    </tr>\n",
       "  </tbody>\n",
       "</table>\n",
       "</div>"
      ],
      "text/plain": [
       "   ID  Store ID  Total Price  Base Price  Units Sold\n",
       "0   1      8091      99.0375    111.8625          20\n",
       "1   2      8091      99.0375     99.0375          28\n",
       "2   3      8091     133.9500    133.9500          19\n",
       "3   4      8091     133.9500    133.9500          44\n",
       "4   5      8091     141.0750    141.0750          52"
      ]
     },
     "execution_count": 3,
     "metadata": {},
     "output_type": "execute_result"
    }
   ],
   "source": [
    "demand.head()"
   ]
  },
  {
   "cell_type": "markdown",
   "metadata": {},
   "source": [
    "CHECKING NULL VALUES."
   ]
  },
  {
   "cell_type": "code",
   "execution_count": 4,
   "metadata": {},
   "outputs": [
    {
     "data": {
      "text/plain": [
       "ID             0\n",
       "Store ID       0\n",
       "Total Price    1\n",
       "Base Price     0\n",
       "Units Sold     0\n",
       "dtype: int64"
      ]
     },
     "execution_count": 4,
     "metadata": {},
     "output_type": "execute_result"
    }
   ],
   "source": [
    "demand.isnull().sum()\n"
   ]
  },
  {
   "cell_type": "code",
   "execution_count": 5,
   "metadata": {},
   "outputs": [
    {
     "data": {
      "text/plain": [
       "ID               int64\n",
       "Store ID         int64\n",
       "Total Price    float64\n",
       "Base Price     float64\n",
       "Units Sold       int64\n",
       "dtype: object"
      ]
     },
     "execution_count": 5,
     "metadata": {},
     "output_type": "execute_result"
    }
   ],
   "source": [
    "demand.dtypes"
   ]
  },
  {
   "cell_type": "markdown",
   "metadata": {},
   "source": [
    "FILLING NULL VALUES WITH MEDAIN."
   ]
  },
  {
   "cell_type": "code",
   "execution_count": 7,
   "metadata": {},
   "outputs": [],
   "source": [
    "demand[\"Total Price\"].fillna(demand[\"Total Price\"].median(), inplace = True)"
   ]
  },
  {
   "cell_type": "code",
   "execution_count": 8,
   "metadata": {},
   "outputs": [
    {
     "data": {
      "text/plain": [
       "ID             0\n",
       "Store ID       0\n",
       "Total Price    0\n",
       "Base Price     0\n",
       "Units Sold     0\n",
       "dtype: int64"
      ]
     },
     "execution_count": 8,
     "metadata": {},
     "output_type": "execute_result"
    }
   ],
   "source": [
    "demand.isnull().sum()"
   ]
  },
  {
   "cell_type": "markdown",
   "metadata": {},
   "source": [
    "ANALYZING RELATIONSHIP BETWEEN DEMAND AND PRICE OF THE PRODUCT USING SCATTER PLOT."
   ]
  },
  {
   "cell_type": "code",
   "execution_count": 14,
   "metadata": {},
   "outputs": [
    {
     "data": {
      "image/png": "[encoded data removed]",
      "text/plain": [
       "<Figure size 432x288 with 1 Axes>"
      ]
     },
     "metadata": {
      "needs_background": "light"
     },
     "output_type": "display_data"
    }
   ],
   "source": [
    "plt.scatter(x = \"Units Sold\", y = \"Total Price\", data = demand)\n",
    "plt.title(\"Demand \")\n",
    "plt.xlabel(\"Units Sold\")\n",
    "plt.ylabel(\"Total Price\")\n",
    "plt.show()"
   ]
  },
  {
   "cell_type": "code",
   "execution_count": 15,
   "metadata": {},
   "outputs": [
    {
     "data": {
      "text/html": [
       "<div>\n",
       "<style scoped>\n",
       "    .dataframe tbody tr th:only-of-type {\n",
       "        vertical-align: middle;\n",
       "    }\n",
       "\n",
       "    .dataframe tbody tr th {\n",
       "        vertical-align: top;\n",
       "    }\n",
       "\n",
       "    .dataframe thead th {\n",
       "        text-align: right;\n",
       "    }\n",
       "</style>\n",
       "<table border=\"1\" class=\"dataframe\">\n",
       "  <thead>\n",
       "    <tr style=\"text-align: right;\">\n",
       "      <th></th>\n",
       "      <th>ID</th>\n",
       "      <th>Store ID</th>\n",
       "      <th>Total Price</th>\n",
       "      <th>Base Price</th>\n",
       "      <th>Units Sold</th>\n",
       "    </tr>\n",
       "  </thead>\n",
       "  <tbody>\n",
       "    <tr>\n",
       "      <th>ID</th>\n",
       "      <td>1.000000</td>\n",
       "      <td>0.007464</td>\n",
       "      <td>0.008472</td>\n",
       "      <td>0.018932</td>\n",
       "      <td>-0.010616</td>\n",
       "    </tr>\n",
       "    <tr>\n",
       "      <th>Store ID</th>\n",
       "      <td>0.007464</td>\n",
       "      <td>1.000000</td>\n",
       "      <td>-0.038315</td>\n",
       "      <td>-0.038848</td>\n",
       "      <td>-0.004372</td>\n",
       "    </tr>\n",
       "    <tr>\n",
       "      <th>Total Price</th>\n",
       "      <td>0.008472</td>\n",
       "      <td>-0.038315</td>\n",
       "      <td>1.000000</td>\n",
       "      <td>0.958867</td>\n",
       "      <td>-0.235624</td>\n",
       "    </tr>\n",
       "    <tr>\n",
       "      <th>Base Price</th>\n",
       "      <td>0.018932</td>\n",
       "      <td>-0.038848</td>\n",
       "      <td>0.958867</td>\n",
       "      <td>1.000000</td>\n",
       "      <td>-0.140032</td>\n",
       "    </tr>\n",
       "    <tr>\n",
       "      <th>Units Sold</th>\n",
       "      <td>-0.010616</td>\n",
       "      <td>-0.004372</td>\n",
       "      <td>-0.235624</td>\n",
       "      <td>-0.140032</td>\n",
       "      <td>1.000000</td>\n",
       "    </tr>\n",
       "  </tbody>\n",
       "</table>\n",
       "</div>"
      ],
      "text/plain": [
       "                   ID  Store ID  Total Price  Base Price  Units Sold\n",
       "ID           1.000000  0.007464     0.008472    0.018932   -0.010616\n",
       "Store ID     0.007464  1.000000    -0.038315   -0.038848   -0.004372\n",
       "Total Price  0.008472 -0.038315     1.000000    0.958867   -0.235624\n",
       "Base Price   0.018932 -0.038848     0.958867    1.000000   -0.140032\n",
       "Units Sold  -0.010616 -0.004372    -0.235624   -0.140032    1.000000"
      ]
     },
     "execution_count": 15,
     "metadata": {},
     "output_type": "execute_result"
    }
   ],
   "source": [
    "demand.corr()"
   ]
  },
  {
   "cell_type": "markdown",
   "metadata": {},
   "source": [
    "CREATING INDEPENDENT AND DEPANDDENT VARIABLES AND PERFORMING TEST TRAIN SPLIT."
   ]
  },
  {
   "cell_type": "code",
   "execution_count": 50,
   "metadata": {},
   "outputs": [],
   "source": [
    "X = demand[[\"Total Price\", \"Base Price\"]]\n",
    "y = demand[[\"Units Sold\"]]"
   ]
  },
  {
   "cell_type": "code",
   "execution_count": 51,
   "metadata": {},
   "outputs": [],
   "source": [
    "from sklearn.model_selection import train_test_split"
   ]
  },
  {
   "cell_type": "code",
   "execution_count": 52,
   "metadata": {},
   "outputs": [],
   "source": [
    "X_train, X_test, y_train, y_test = train_test_split(X, y, test_size = 0.2, random_state = 0)\n"
   ]
  },
  {
   "cell_type": "markdown",
   "metadata": {},
   "source": [
    "USING DECISIONTREE ALGORITHM."
   ]
  },
  {
   "cell_type": "code",
   "execution_count": 56,
   "metadata": {},
   "outputs": [
    {
     "data": {
      "text/plain": [
       "DecisionTreeRegressor(criterion='mse', max_depth=None, max_features=None,\n",
       "           max_leaf_nodes=None, min_impurity_decrease=0.0,\n",
       "           min_impurity_split=None, min_samples_leaf=1,\n",
       "           min_samples_split=2, min_weight_fraction_leaf=0.0,\n",
       "           presort=False, random_state=None, splitter='best')"
      ]
     },
     "execution_count": 56,
     "metadata": {},
     "output_type": "execute_result"
    }
   ],
   "source": [
    "from sklearn.tree import DecisionTreeRegressor\n",
    "dtr = DecisionTreeRegressor()\n",
    "dtr.fit(X_train, y_train)"
   ]
  },
  {
   "cell_type": "markdown",
   "metadata": {},
   "source": [
    "PREDICTING NEW RESULT."
   ]
  },
  {
   "cell_type": "code",
   "execution_count": 57,
   "metadata": {},
   "outputs": [
    {
     "data": {
      "text/plain": [
       "array([27.])"
      ]
     },
     "execution_count": 57,
     "metadata": {},
     "output_type": "execute_result"
    }
   ],
   "source": [
    "features = np.array([[133.00, 140.00]])\n",
    "dtr.predict(features)"
   ]
  },
  {
   "cell_type": "code",
   "execution_count": null,
   "metadata": {},
   "outputs": [],
   "source": []
  }
 ],
 "metadata": {
  "kernelspec": {
   "display_name": "Python 3",
   "language": "python",
   "name": "python3"
  },
  "language_info": {
   "codemirror_mode": {
    "name": "ipython",
    "version": 3
   },
   "file_extension": ".py",
   "mimetype": "text/x-python",
   "name": "python",
   "nbconvert_exporter": "python",
   "pygments_lexer": "ipython3",
   "version": "3.7.0"
  }
 },
 "nbformat": 4,
 "nbformat_minor": 2
}
